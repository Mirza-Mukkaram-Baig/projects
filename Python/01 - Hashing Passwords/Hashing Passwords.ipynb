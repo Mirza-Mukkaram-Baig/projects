{
 "cells": [
  {
   "cell_type": "markdown",
   "id": "f050c887",
   "metadata": {},
   "source": [
    "# Secure Password Management and File Encryption in Python\n",
    "\n",
    "This notebook demonstrates how to:\n",
    "\n",
    "1. Hash a password and save it in a JSON file.\n",
    "2. Encrypt the JSON file using Fernet symmetric encryption.\n",
    "3. Decrypt the JSON file and load the hashed password.\n",
    "4. Verify a password entered by the user against the hashed password.\n",
    "\n",
    "We'll use the `bcrypt` library for password hashing and the `cryptography` library for file encryption."
   ]
  },
  {
   "cell_type": "code",
   "execution_count": 2,
   "id": "33ad2c6e",
   "metadata": {},
   "outputs": [],
   "source": [
    "import bcrypt\n",
    "import json\n",
    "from getpass import getpass\n",
    "from cryptography.fernet import Fernet\n",
    "from cryptography.hazmat.primitives import hashes\n",
    "from cryptography.hazmat.primitives.kdf.pbkdf2 import PBKDF2HMAC\n",
    "from cryptography.hazmat.primitives.kdf.pbkdf2 import PBKDF2HMAC\n",
    "from cryptography.hazmat.primitives import hashes\n",
    "from cryptography.hazmat.primitives.asymmetric import padding\n",
    "import base64\n",
    "import os"
   ]
  },
  {
   "cell_type": "markdown",
   "id": "29d0c016",
   "metadata": {},
   "source": [
    "## Key Generation for Encryption\n",
    "\n",
    "We'll start by generating a key that we'll use for encrypting the JSON file. We're using a password-based key derivation function (PBKDF2) with HMAC and SHA-256. "
   ]
  },
  {
   "cell_type": "code",
   "execution_count": 3,
   "id": "37c17880",
   "metadata": {},
   "outputs": [],
   "source": [
    "# Generate a key for encryption\n",
    "password_provided = \"password\"  # This is input in the form of a string\n",
    "password = password_provided.encode()  # Convert to type bytes\n",
    "salt = os.urandom(16)\n",
    "kdf = PBKDF2HMAC(\n",
    "    algorithm=hashes.SHA256(),\n",
    "    length=32,\n",
    "    salt=salt,\n",
    "    iterations=100000\n",
    ")\n",
    "key = base64.urlsafe_b64encode(kdf.derive(password))  # Can only use kdf once\n",
    "\n",
    "cipher_suite = Fernet(key)"
   ]
  },
  {
   "cell_type": "markdown",
   "id": "13009a82",
   "metadata": {},
   "source": [
    "## Password Hashing and Saving\n",
    "\n",
    "Next, we will hash a password entered by the user, and save it along with a salt to a JSON configuration file.\n"
   ]
  },
  {
   "cell_type": "code",
   "execution_count": 4,
   "id": "e6abc1e0",
   "metadata": {},
   "outputs": [
    {
     "name": "stdout",
     "output_type": "stream",
     "text": [
      "Enter the password: ········\n"
     ]
    }
   ],
   "source": [
    "# Hash a password\n",
    "password = getpass(\"Enter the password: \").encode('utf-8')\n",
    "salt = bcrypt.gensalt()\n",
    "hashed_password = bcrypt.hashpw(password, salt)\n",
    "\n",
    "# Save hashed password and salt to JSON config file\n",
    "config = {\n",
    "    'hashed_password': hashed_password.decode('utf-8'),  # bytes to string\n",
    "    'salt': salt.decode('utf-8')  # bytes to string\n",
    "}\n",
    "\n",
    "with open('config.json', 'w') as f:\n",
    "    json.dump(config, f)"
   ]
  },
  {
   "cell_type": "markdown",
   "id": "f0238505",
   "metadata": {},
   "source": [
    "## File Encryption\n",
    "\n",
    "We then encrypt the JSON configuration file using the key we generated earlier.\n"
   ]
  },
  {
   "cell_type": "code",
   "execution_count": 5,
   "id": "1aa49006",
   "metadata": {},
   "outputs": [],
   "source": [
    "# Encrypt the JSON file\n",
    "with open('config.json', 'rb') as f:\n",
    "    data = f.read()\n",
    "\n",
    "encrypted_data = cipher_suite.encrypt(data)\n",
    "\n",
    "with open('config.json', 'wb') as f:\n",
    "    f.write(encrypted_data)"
   ]
  },
  {
   "cell_type": "markdown",
   "id": "9268b0e3",
   "metadata": {},
   "source": [
    "## File Decryption and Password Loading\n",
    "\n",
    "We can now load the encrypted JSON file, decrypt it, and load the hashed password and salt.\n"
   ]
  },
  {
   "cell_type": "code",
   "execution_count": 6,
   "id": "1aad2248",
   "metadata": {},
   "outputs": [],
   "source": [
    "# Later... load and decrypt the JSON file\n",
    "with open('config.json', 'rb') as f:\n",
    "    encrypted_data = f.read()\n",
    "\n",
    "data = cipher_suite.decrypt(encrypted_data)\n",
    "\n",
    "config = json.loads(data)\n",
    "\n",
    "hashed_password = config['hashed_password'].encode('utf-8')  # string to bytes\n",
    "salt = config['salt'].encode('utf-8')  # string to bytes\n"
   ]
  },
  {
   "cell_type": "markdown",
   "id": "0449b093",
   "metadata": {},
   "source": [
    "## Password Verification\n",
    "\n",
    "Finally, we verify a password entered by the user against the hashed password.\n"
   ]
  },
  {
   "cell_type": "code",
   "execution_count": 7,
   "id": "5436eca2",
   "metadata": {},
   "outputs": [
    {
     "name": "stdout",
     "output_type": "stream",
     "text": [
      "Enter the password to check: ········\n",
      "It Matches!\n"
     ]
    }
   ],
   "source": [
    "# Checking the password\n",
    "check_password = getpass(\"Enter the password to check: \").encode('utf-8')\n",
    "if bcrypt.checkpw(check_password, hashed_password):\n",
    "    print(\"It Matches!\")\n",
    "else:\n",
    "    print(\"It Does not Match :(\")\n"
   ]
  },
  {
   "cell_type": "markdown",
   "id": "66df7ff8",
   "metadata": {},
   "source": [
    "# Conclusion\n",
    "\n",
    "In this notebook, we demonstrated how to securely manage passwords and sensitive data in Python using password hashing, file encryption, and decryption. \n",
    "\n",
    "Please remember, this notebook is for demonstration purposes and does not consider other important aspects of security such as secure handling of encryption keys and secure storage of hashed passwords.\n"
   ]
  }
 ],
 "metadata": {
  "kernelspec": {
   "display_name": "ptc",
   "language": "python",
   "name": "ptc"
  },
  "language_info": {
   "codemirror_mode": {
    "name": "ipython",
    "version": 3
   },
   "file_extension": ".py",
   "mimetype": "text/x-python",
   "name": "python",
   "nbconvert_exporter": "python",
   "pygments_lexer": "ipython3",
   "version": "3.10.9"
  }
 },
 "nbformat": 4,
 "nbformat_minor": 5
}
